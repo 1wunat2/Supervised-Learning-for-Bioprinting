{
  "cells": [
    {
      "cell_type": "code",
      "execution_count": 1,
      "metadata": {
        "id": "fH0pJZ2MNHMx"
      },
      "outputs": [],
      "source": [
        "# imports (add your imports here)\n",
        "from sklearn.model_selection import train_test_split, KFold\n",
        "from sklearn.preprocessing import MinMaxScaler, OneHotEncoder, StandardScaler\n",
        "from sklearn.impute import KNNImputer\n",
        "from sklearn.linear_model import LinearRegression, LogisticRegression\n",
        "from sklearn.metrics import mean_squared_error, r2_score, accuracy_score\n",
        "from sklearn.ensemble import RandomForestClassifier\n",
        "from sklearn.svm import SVC\n",
        "import numpy as np\n",
        "import matplotlib.pyplot as plt # for plotting\n",
        "import pandas as pd"
      ]
    },
    {
      "cell_type": "markdown",
      "metadata": {
        "id": "_xFSkOJ_OyZ3"
      },
      "source": [
        "## Regression models"
      ]
    },
    {
      "cell_type": "markdown",
      "metadata": {
        "id": "rBLPNcLDAlyB"
      },
      "source": [
        "Preprocess the data for regression. Use the `Viability_at_time_of_observation_(%)` column as the label."
      ]
    },
    {
      "cell_type": "code",
      "execution_count": 14,
      "metadata": {
        "id": "tMs6lNxDAgwo"
      },
      "outputs": [],
      "source": [
        "# data preprocessing code\n",
        "# TODO\n",
        "# your code here\n",
        "\n",
        "# Reading in csv as dataframe\n",
        "df = pd.read_csv('/content/Cell viability and extrusion dataset V1.csv')\n",
        "df = df.drop(['Reference', 'DOI'], axis=1)\n",
        "\n",
        "# Removing comment from numeric column\n",
        "col_fix = \"Fiber_Diameter_(µm)\"\n",
        "df[col_fix] = df[col_fix].str.replace(r' \\(.*\\)', \"\", regex=True).astype('float64')\n",
        "\n",
        "# Handling null instances for temp\n",
        "substrate_temp = 'Substrate_Temperature_(°C)'\n",
        "syringe_temp = 'Syringe_Temperature_(°C)'\n",
        "temp_list = [substrate_temp, syringe_temp]\n",
        "df[temp_list] = df[temp_list].fillna(value=22)\n",
        "\n",
        "# Removal of feature 50+% null or zero\n",
        "row_count = df.shape[0]\n",
        "columns_to_drop = []\n",
        "\n",
        "# Loop over columns\n",
        "for col in df.columns.values:\n",
        "\n",
        "  # Get list of columns with at least half null or zero\n",
        "  num_zero_na = sum((df[col] == 0) | (df[col].isna()))\n",
        "  if num_zero_na / row_count >= 0.5:\n",
        "    columns_to_drop.append(col)\n",
        "\n",
        "# Drop the columns\n",
        "df = df.drop(columns_to_drop, axis=1)\n",
        "\n",
        "# Imputation of missing data using KNN\n",
        "imputer = KNNImputer(n_neighbors=30)\n",
        "\n",
        "# Get numeric columns\n",
        "num_df = df.select_dtypes(include=[np.number])\n",
        "num_cols = num_df.columns\n",
        "\n",
        "# Impute and insert data into dataframe\n",
        "imputed_data = imputer.fit_transform(num_df.to_numpy())\n",
        "imputed_df = pd.DataFrame(imputed_data, columns=num_cols)\n",
        "df[num_cols] = imputed_df\n",
        "\n",
        "# One-Hot Encoding\n",
        "cat_data_df = df.select_dtypes(exclude=[np.number])\n",
        "cat_col_name = cat_data_df.columns\n",
        "df_encoded = pd.get_dummies(df[cat_col_name], columns=cat_col_name, dtype=int)\n",
        "df = pd.concat([df.drop(cat_col_name, axis=1), df_encoded], axis=1)\n",
        "\n",
        "# Extract the features and labels\n",
        "label_name = \"Viability_at_time_of_observation_(%)\"\n",
        "x, y = df.drop([label_name], axis=1), df[label_name] # this is the x (features) and y (labels) of the data after preprocessing\n"
      ]
    },
    {
      "cell_type": "markdown",
      "metadata": {
        "id": "hW11sM9hAqlZ"
      },
      "source": [
        "Next, train your regression model within the following 5-fold cross validation code."
      ]
    },
    {
      "cell_type": "code",
      "execution_count": 21,
      "metadata": {
        "collapsed": true,
        "id": "-t_MVOhrApBn"
      },
      "outputs": [],
      "source": [
        "num_folds = 5\n",
        "\n",
        "# Initialize lists to store training and test MSE for each fold\n",
        "# TODO\n",
        "mse_train_lst = []\n",
        "mse_test_lst = []\n",
        "r2_train_lst = []\n",
        "r2_test_lst = []\n",
        "\n",
        "# Create the KFold object\n",
        "kf = KFold(n_splits=num_folds, shuffle=True)\n",
        "\n",
        "# Loop over the folds\n",
        "for train_index, test_index in kf.split(x):\n",
        "\n",
        "    # Split the data into training and test sets for this fold\n",
        "    x_fold_train=x.iloc[train_index]\n",
        "    y_fold_train = y[train_index]\n",
        "    x_fold_test=x.iloc[test_index]\n",
        "    y_fold_test = y[test_index]\n",
        "\n",
        "    # Scale the data using MinMaxScaler\n",
        "    scaler = MinMaxScaler()\n",
        "    x_fold_train = scaler.fit_transform(x_fold_train)\n",
        "    x_fold_test = scaler.transform(x_fold_test)\n",
        "    y_fold_train = scaler.fit_transform(y_fold_train.values.reshape(-1, 1))\n",
        "    y_fold_train = np.ravel(y_fold_train)\n",
        "    y_fold_test = scaler.transform(y_fold_test.values.reshape(-1, 1))\n",
        "    y_fold_test = np.ravel(y_fold_test)\n",
        "\n",
        "    # Train the model on the training set for this fold\n",
        "    model = LinearRegression(fit_intercept=True) # your model here TODO\n",
        "\n",
        "    model.fit(x_fold_train, y_fold_train)\n",
        "\n",
        "    # Evaluate the model on the training set and test set for this fold\n",
        "    train_pred = model.predict(x_fold_train)\n",
        "    test_pred = model.predict(x_fold_test)\n",
        "\n",
        "    # Record your train and test predictions\n",
        "    # TODO\n",
        "\n",
        "    # Calculate mse\n",
        "    mse_train = mean_squared_error(y_fold_train, train_pred)\n",
        "    mse_test = mean_squared_error(y_fold_test, test_pred)\n",
        "\n",
        "    # Calculate r2\n",
        "    r2_train = r2_score(y_fold_train, train_pred)\n",
        "    r2_test = r2_score(y_fold_test, test_pred)\n",
        "\n",
        "    # Save mse to list\n",
        "    mse_train_lst.append(mse_train)\n",
        "    mse_test_lst.append(mse_test)\n",
        "\n",
        "    # Save r2 to list\n",
        "    r2_train_lst.append(r2_train)\n",
        "    r2_test_lst.append(r2_test)\n"
      ]
    },
    {
      "cell_type": "markdown",
      "metadata": {
        "id": "KoJPDlvFAz4s"
      },
      "source": [
        "For each fold, record the train and test performance of the model in an array. Use the `matplotlib` library to plot the average performance of the model (average across folds).\n",
        "\n"
      ]
    },
    {
      "cell_type": "code",
      "execution_count": 24,
      "metadata": {
        "colab": {
          "base_uri": "https://localhost:8080/",
          "height": 0
        },
        "id": "MsZM5H5kBBNv",
        "outputId": "e5ce9fa8-3196-4c0d-bdd7-e456b7314005"
      },
      "outputs": [
        {
          "name": "stdout",
          "output_type": "stream",
          "text": [
            "MSE Train: 0.009772411377549388\n",
            "MSE Test: 0.010392368327041244\n",
            "R2 Train: 0.6890244717499854\n",
            "R2 Test: 0.6699245532437811\n"
          ]
        },
        {
          "data": {
            "text/plain": [
              "Text(0.5, 1.0, 'R2 for Train and Test Sets')"
            ]
          },
          "execution_count": 24,
          "metadata": {},
          "output_type": "execute_result"
        }
      ],
      "source": [
        "# TODO\n",
        "\n",
        "# Turn of displaying plot\n",
        "plt.ioff()\n",
        "\n",
        "# Create subplots\n",
        "figure, axis = plt.subplots(1, 2, figsize=(10,4))\n",
        "\n",
        "# Add space between the subplots\n",
        "plt.subplots_adjust(wspace=0.5)\n",
        "\n",
        "# MSE Plot\n",
        "# Get mean from data\n",
        "train_mse_mean = np.mean(mse_train_lst)\n",
        "test_mse_mean = np.mean(mse_test_lst)\n",
        "\n",
        "print(\"MSE Train: %s\" % train_mse_mean)\n",
        "print(\"MSE Test: %s\" % test_mse_mean)\n",
        "\n",
        "# Plot MSE data\n",
        "axis[0].errorbar(1, train_mse_mean, fmt='o', label='Train', color='blue', capsize=10)\n",
        "axis[0].errorbar(2, test_mse_mean, fmt='o', label='Test', color='red', capsize=10)\n",
        "\n",
        "# Move plot in a bit (looks nicer)\n",
        "axis[0].set_xlim(0.7, 2.3)\n",
        "\n",
        "# Add labels and title to MSE plot\n",
        "axis[0].set_xticks([1, 2])\n",
        "axis[0].set_xticklabels(['Train', 'Test'])\n",
        "axis[0].set_ylabel('Mean Squared Error (MSE)')\n",
        "axis[0].set_title('MSE for Train and Test Sets')\n",
        "\n",
        "# R2 Plot\n",
        "# Get mean from data\n",
        "train_r2_mean = np.mean(r2_train_lst)\n",
        "test_r2_mean = np.mean(r2_test_lst)\n",
        "\n",
        "print(\"R2 Train: %s\" % train_r2_mean)\n",
        "print(\"R2 Test: %s\" % test_r2_mean)\n",
        "\n",
        "# Plot R2 data\n",
        "axis[1].errorbar(1, train_r2_mean, fmt='o', label='Train', color='blue', capsize=10)\n",
        "axis[1].errorbar(2, test_r2_mean, fmt='o', label='Test', color='red', capsize=10)\n",
        "\n",
        "# Move plot in a bit (looks nicer)\n",
        "axis[1].set_xlim(0.7, 2.3)\n",
        "\n",
        "# Add labels and title to MSE plot\n",
        "axis[1].set_xticks([1, 2])\n",
        "axis[1].set_xticklabels(['Train', 'Test'])\n",
        "axis[1].set_ylabel('Coefficient of Determination (R2)')\n",
        "axis[1].set_title('R2 for Train and Test Sets')"
      ]
    },
    {
      "cell_type": "code",
      "execution_count": 25,
      "metadata": {
        "colab": {
          "base_uri": "https://localhost:8080/",
          "height": 391
        },
        "id": "9V6ExumewfCu",
        "outputId": "4b94d05a-1b1c-42dc-ce63-969c9871bbb7"
      },
      "outputs": [
        {
          "data": {
            "image/png": "[encoded data removed]",
            "text/plain": [
              "<Figure size 1000x400 with 2 Axes>"
            ]
          },
          "metadata": {},
          "output_type": "display_data"
        }
      ],
      "source": [
        "# plot your results here\n",
        "plt.show()"
      ]
    },
    {
      "cell_type": "markdown",
      "metadata": {
        "id": "GmQf3x8pPAYK"
      },
      "source": [
        "## Classification models"
      ]
    },
    {
      "cell_type": "markdown",
      "metadata": {
        "id": "dMQQVN30rC3b"
      },
      "source": [
        "Now, do the same thing with the three classification models. You can use nearly the same code to preprocess the data (this time, use the `Acceptable_Viability_(Yes/No)` column as your labels)"
      ]
    },
    {
      "cell_type": "code",
      "execution_count": 7,
      "metadata": {
        "id": "H4Wm_jyLwTY7"
      },
      "outputs": [],
      "source": [
        "# data preprocessing code\n",
        "# TODO\n",
        "# your code here\n",
        "\n",
        "# Reading in csv as dataframe\n",
        "df = pd.read_csv('/content/Cell viability and extrusion dataset V1.csv')\n",
        "df = df.drop(['Reference', 'DOI'], axis=1)\n",
        "\n",
        "# Removing comment from numeric column\n",
        "col_fix = \"Fiber_Diameter_(µm)\"\n",
        "df[col_fix] = df[col_fix].str.replace(r' \\(.*\\)', \"\", regex=True).astype('float64')\n",
        "\n",
        "# Handling null instances for temp\n",
        "substrate_temp = 'Substrate_Temperature_(°C)'\n",
        "syringe_temp = 'Syringe_Temperature_(°C)'\n",
        "temp_list = [substrate_temp, syringe_temp]\n",
        "df[temp_list] = df[temp_list].fillna(value=22)\n",
        "\n",
        "# Removal of feature 50+% null or zero\n",
        "row_count = df.shape[0]\n",
        "columns_to_drop = []\n",
        "\n",
        "# Loop over columns\n",
        "for col in df.columns.values:\n",
        "\n",
        "  # Get list of columns with at least half null or zero\n",
        "  num_zero_na = sum((df[col] == 0) | (df[col].isna()))\n",
        "  if num_zero_na / row_count >= 0.5:\n",
        "    columns_to_drop.append(col)\n",
        "\n",
        "# Drop the columns\n",
        "df = df.drop(columns_to_drop, axis=1)\n",
        "\n",
        "# Imputation of missing data using KNN\n",
        "imputer = KNNImputer(n_neighbors=30)\n",
        "\n",
        "# Get numeric columns\n",
        "num_df = df.select_dtypes(include=[np.number])\n",
        "num_cols = num_df.columns\n",
        "\n",
        "# Impute and insert data into dataframe\n",
        "imputed_data = imputer.fit_transform(num_df.to_numpy())\n",
        "imputed_df = pd.DataFrame(imputed_data, columns=num_cols)\n",
        "df[num_cols] = imputed_df\n",
        "\n",
        "# One-Hot Encoding\n",
        "cat_data_df = df.select_dtypes(exclude=[np.number])\n",
        "cat_col_name = cat_data_df.columns\n",
        "df_encoded = pd.get_dummies(df[cat_col_name], columns=cat_col_name, dtype=int)\n",
        "df = pd.concat([df.drop(cat_col_name, axis=1), df_encoded], axis=1)\n",
        "\n",
        "# Extract the features and labels\n",
        "label_name = [\"Acceptable_Viability_(Yes/No)_Y\",\"Acceptable_Viability_(Yes/No)_N\", \"Acceptable_Pressure_(Yes/No)_Y\", \"Acceptable_Pressure_(Yes/No)_N\"]\n",
        "x, y = df.drop(label_name, axis=1), df[label_name[0]] # this is the x (features) and y (labels) of the data after preprocessing"
      ]
    },
    {
      "cell_type": "markdown",
      "metadata": {
        "id": "jH8xfK6crgao"
      },
      "source": [
        "### Random Forest Clasification"
      ]
    },
    {
      "cell_type": "code",
      "execution_count": 8,
      "metadata": {
        "id": "nwSoqHuWO_mw"
      },
      "outputs": [],
      "source": [
        "# cross validation and training code\n",
        "\n",
        "num_folds = 5\n",
        "\n",
        "# Initialize lists to store training and test accuracy for each fold\n",
        "rfc_accuracy_train = []\n",
        "rfc_accuracy_test = []\n",
        "\n",
        "# Create the KFold object\n",
        "kf = KFold(n_splits=num_folds, shuffle=True)\n",
        "\n",
        "# Loop over the folds\n",
        "for train_index, test_index in kf.split(x):\n",
        "\n",
        "    # Split the data into training and test sets for this fold\n",
        "    x_fold_train=x.iloc[train_index]\n",
        "    y_fold_train = y[train_index]\n",
        "    x_fold_test=x.iloc[test_index]\n",
        "    y_fold_test = y[test_index]\n",
        "\n",
        "    # Train the model on the training set for this fold\n",
        "    rfc_model = RandomForestClassifier()\n",
        "\n",
        "    rfc_model.fit(x_fold_train, y_fold_train)\n",
        "\n",
        "    # Evaluate the model on the training set and test set for this fold\n",
        "    rfc_train_pred = rfc_model.predict(x_fold_train)\n",
        "    rfc_test_pred = rfc_model.predict(x_fold_test)\n",
        "\n",
        "    # Record your train and test predictions\n",
        "    rfc_accuracy_train.append(accuracy_score(y_fold_train, rfc_train_pred))\n",
        "    rfc_accuracy_test.append(accuracy_score(y_fold_test, rfc_test_pred))"
      ]
    },
    {
      "cell_type": "markdown",
      "metadata": {
        "id": "oDdg6IxrrrE7"
      },
      "source": [
        "### Logistic Regression Classification"
      ]
    },
    {
      "cell_type": "code",
      "execution_count": 9,
      "metadata": {
        "id": "XuK3c8zjrcqd"
      },
      "outputs": [],
      "source": [
        "# cross validation and training code\n",
        "\n",
        "num_folds = 5\n",
        "\n",
        "# Initialize lists to store training and test accuracy for each fold\n",
        "lrc_accuracy_train = []\n",
        "lrc_accuracy_test = []\n",
        "\n",
        "# Create the KFold object\n",
        "kf = KFold(n_splits=num_folds, shuffle=True)\n",
        "\n",
        "# Loop over the folds\n",
        "for train_index, test_index in kf.split(x):\n",
        "\n",
        "    # Split the data into training and test sets for this fold\n",
        "    x_fold_train=x.iloc[train_index]\n",
        "    y_fold_train = y[train_index]\n",
        "    x_fold_test=x.iloc[test_index]\n",
        "    y_fold_test = y[test_index]\n",
        "\n",
        "    # Normalize the data\n",
        "    scaler = StandardScaler()\n",
        "    x_train_normalised = scaler.fit_transform(x_fold_train)\n",
        "    x_test_normalised = scaler.transform(x_fold_test)\n",
        "\n",
        "    # Train the model on the training set for this fold\n",
        "    lrc_model = LogisticRegression()\n",
        "\n",
        "    lrc_model.fit(x_train_normalised, y_fold_train)\n",
        "\n",
        "    # Evaluate the model on the training set and test set for this fold\n",
        "    lrc_train_pred = lrc_model.predict(x_train_normalised)\n",
        "    lrc_test_pred = lrc_model.predict(x_test_normalised)\n",
        "\n",
        "    # Record your train and test predictions\n",
        "    lrc_accuracy_train.append(accuracy_score(y_fold_train, lrc_train_pred))\n",
        "    lrc_accuracy_test.append(accuracy_score(y_fold_test, lrc_test_pred))\n"
      ]
    },
    {
      "cell_type": "markdown",
      "metadata": {
        "id": "APn3A39Prx9y"
      },
      "source": [
        "### Support Vector Classification"
      ]
    },
    {
      "cell_type": "code",
      "execution_count": 10,
      "metadata": {
        "id": "cr0kQJHHrvlr"
      },
      "outputs": [],
      "source": [
        "# cross validation and training code\n",
        "\n",
        "num_folds = 5\n",
        "\n",
        "# Initialize lists to store training and test accuracy for each fold\n",
        "svc_accuracy_train = []\n",
        "svc_accuracy_test = []\n",
        "\n",
        "# Create the KFold object\n",
        "kf = KFold(n_splits=num_folds, shuffle=True)\n",
        "\n",
        "# Loop over the folds\n",
        "for train_index, test_index in kf.split(x):\n",
        "\n",
        "    # Split the data into training and test sets for this fold\n",
        "    x_fold_train=x.iloc[train_index]\n",
        "    y_fold_train = y[train_index]\n",
        "    x_fold_test=x.iloc[test_index]\n",
        "    y_fold_test = y[test_index]\n",
        "\n",
        "    # Train the model on the training set for this fold\n",
        "    svc_model = SVC()\n",
        "\n",
        "    svc_model.fit(x_fold_train, y_fold_train)\n",
        "\n",
        "    # Evaluate the model on the training set and test set for this fold\n",
        "    svc_train_pred = svc_model.predict(x_fold_train)\n",
        "    svc_test_pred = svc_model.predict(x_fold_test)\n",
        "\n",
        "    # Record your train and test predictions\n",
        "    svc_accuracy_train.append(accuracy_score(y_fold_train, svc_train_pred))\n",
        "    svc_accuracy_test.append(accuracy_score(y_fold_test, svc_test_pred))\n"
      ]
    },
    {
      "cell_type": "markdown",
      "metadata": {
        "id": "OCPjvcv1r20b"
      },
      "source": [
        "### Plotting"
      ]
    },
    {
      "cell_type": "code",
      "execution_count": 12,
      "metadata": {
        "colab": {
          "base_uri": "https://localhost:8080/",
          "height": 0
        },
        "id": "_oabP6mY8Uve",
        "outputId": "c3f6c5df-b12a-4bd6-a395-4739d94c4688"
      },
      "outputs": [
        {
          "name": "stdout",
          "output_type": "stream",
          "text": [
            "RFC Train: 1.0\n",
            "RFC Test: 0.9983870967741936\n",
            "LRC Train: 0.9923011225989768\n",
            "LRC Test: 0.9923011225989768\n",
            "SVC Train: 0.6158863768877647\n",
            "SVC Test: 0.6158863768877647\n"
          ]
        }
      ],
      "source": [
        "# Turn of displaying plot\n",
        "plt.ioff()\n",
        "\n",
        "# Calculate rfc means\n",
        "train_rfc_mean = np.mean(rfc_accuracy_train)\n",
        "test_rfc_mean = np.mean(rfc_accuracy_test)\n",
        "\n",
        "# Calculate lrc means\n",
        "train_lrc_mean = np.mean(lrc_accuracy_train)\n",
        "test_lrc_mean = np.mean(lrc_accuracy_train)\n",
        "\n",
        "# Calculate svc means\n",
        "train_svc_mean = np.mean(svc_accuracy_train)\n",
        "test_svc_mean = np.mean(svc_accuracy_train)\n",
        "\n",
        "# Print means (for visual check)\n",
        "print(\"RFC Train: %s\" % train_rfc_mean)\n",
        "print(\"RFC Test: %s\" % test_rfc_mean)\n",
        "print(\"LRC Train: %s\" % train_lrc_mean)\n",
        "print(\"LRC Test: %s\" % test_lrc_mean)\n",
        "print(\"SVC Train: %s\" % train_svc_mean)\n",
        "print(\"SVC Test: %s\" % test_svc_mean)\n",
        "\n",
        "# Create a bar plot\n",
        "labels = ['Random Forest', 'Logistic Regression', 'Support Vector']\n",
        "train_means = [train_rfc_mean, train_lrc_mean, train_svc_mean]\n",
        "test_means = [test_rfc_mean, test_lrc_mean, test_svc_mean]\n",
        "\n",
        "# Label Location\n",
        "x = np.arange(len(labels))\n",
        "\n",
        "# Width of bars\n",
        "width = 0.35\n",
        "\n",
        "# Plot bars\n",
        "fig, ax = plt.subplots()\n",
        "bar1 = ax.bar(x - width/2, train_means, width, label='Train')\n",
        "bar2 = ax.bar(x + width/2, test_means, width, label='Test')\n",
        "\n",
        "# Add labels\n",
        "ax.set_ylabel('Accuracy')\n",
        "ax.set_title('Train and Test Accuracies for Classification Models')\n",
        "ax.set_xticks(x)\n",
        "ax.set_xticklabels(labels)\n",
        "ax.legend()\n",
        "\n",
        "# Show plot\n",
        "plt.tight_layout()"
      ]
    },
    {
      "cell_type": "code",
      "execution_count": 13,
      "metadata": {
        "colab": {
          "base_uri": "https://localhost:8080/",
          "height": 487
        },
        "id": "avRNpg3nyKVM",
        "outputId": "1a365013-bec7-4090-c102-cfbac2f698ee"
      },
      "outputs": [
        {
          "data": {
            "image/png": "[encoded data removed]",
            "text/plain": [
              "<Figure size 640x480 with 1 Axes>"
            ]
          },
          "metadata": {},
          "output_type": "display_data"
        }
      ],
      "source": [
        "plt.show()"
      ]
    }
  ],
  "metadata": {
    "colab": {
      "provenance": []
    },
    "kernelspec": {
      "display_name": "Python 3",
      "name": "python3"
    },
    "language_info": {
      "name": "python"
    }
  },
  "nbformat": 4,
  "nbformat_minor": 0
}
